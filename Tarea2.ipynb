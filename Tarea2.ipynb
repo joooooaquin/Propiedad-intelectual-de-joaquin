{
 "cells": [
  {
   "cell_type": "markdown",
   "id": "930d5d48-8a68-470d-b99a-30729bdea9ed",
   "metadata": {},
   "source": [
    "# Tarea 2"
   ]
  },
  {
   "cell_type": "markdown",
   "id": "579140dd-e803-471b-9d9a-e1b6d398f473",
   "metadata": {},
   "source": [
    "### 1. Contraseña"
   ]
  },
  {
   "cell_type": "code",
   "execution_count": 8,
   "id": "8a5f2ebd-f0e8-4867-a3f7-748b1d441535",
   "metadata": {},
   "outputs": [
    {
     "name": "stdin",
     "output_type": "stream",
     "text": [
      "introduce la contraseña:  fechadenacimiento\n"
     ]
    },
    {
     "name": "stdout",
     "output_type": "stream",
     "text": [
      "contraseña correcta\n"
     ]
    }
   ],
   "source": [
    "contraseña = \"fechadenacimiento\"\n",
    "inp = input(\"introduce la contraseña: \")\n",
    "\n",
    "if len(inp) < len(contraseña):\n",
    "    print(\"Te faltan caracteres\")\n",
    "elif len(inp) > len(contraseña):\n",
    "    print(\"Son demasiados caracteres\")\n",
    "elif contraseña == inp:\n",
    "    print(\"contraseña correcta\")"
   ]
  },
  {
   "cell_type": "markdown",
   "id": "8bf00e1f-1997-4335-88db-d199812d102f",
   "metadata": {},
   "source": [
    "### 2. Karaoke"
   ]
  },
  {
   "cell_type": "code",
   "execution_count": 15,
   "id": "47410f21-9c61-4185-b416-8a2896310995",
   "metadata": {},
   "outputs": [],
   "source": [
    "# aqui va el karaoke"
   ]
  },
  {
   "cell_type": "markdown",
   "id": "96e2e463-1d82-47ea-8be0-23103b9335d8",
   "metadata": {},
   "source": [
    "### 3. numpy"
   ]
  },
  {
   "cell_type": "code",
   "execution_count": 56,
   "id": "5fee121d-a186-42fc-99ca-b5aa14fe5f7b",
   "metadata": {},
   "outputs": [],
   "source": [
    "import numpy as np"
   ]
  },
  {
   "cell_type": "code",
   "execution_count": 62,
   "id": "a03e06f5-6954-4fd2-be98-d4ad58b6ec67",
   "metadata": {},
   "outputs": [
    {
     "name": "stdout",
     "output_type": "stream",
     "text": [
      "335\n"
     ]
    }
   ],
   "source": [
    "def punto(a, b):\n",
    "    a = np.array(a)\n",
    "    b = np.array(b)\n",
    "    d = 0\n",
    "    \n",
    "    for i in range(len(a)):\n",
    "        d += a[i]*b[i]\n",
    "    \n",
    "    print(d)\n",
    "\n",
    "a = [1, 2, 3, 8, 5, 9, 5, 5, 3, 4, 7, 8, 9, 0]\n",
    "b = [2, 14, 6, 7, 9, 0, 1, 2, 3, 4, 5, 6, 7, 8]\n",
    "\n",
    "punto(a, b)"
   ]
  },
  {
   "cell_type": "markdown",
   "id": "f2866962-2f89-4e0b-b1ac-5da30e3e6b30",
   "metadata": {},
   "source": [
    "#### 4. Producto matricial"
   ]
  },
  {
   "cell_type": "code",
   "execution_count": 57,
   "id": "b1411f73-e1e6-4015-850e-e8e4d396b87d",
   "metadata": {},
   "outputs": [],
   "source": [
    "import numpy as np\n",
    "\n",
    "def prodmtr(A, B):\n",
    "    A = np.array(A)\n",
    "    B = np.array(B)\n",
    "\n",
    "    n = A.shape[0] # n renglones\n",
    "    m = A.shape[1] # m columnas\n",
    "    k = B.shape[0] # k renglones\n",
    "    mb = B.shape[1] # mb columnas\n",
    "    \n",
    "\n",
    "    X = np.zeros((n, k), int)\n",
    "\n",
    "    for i in range(n):\n",
    "        for j in range(k):\n",
    "            for l in range(m):\n",
    "                X[i, j] += A[i, l] * B[l, j]\n",
    "   \n",
    "    if m != mb:\n",
    "        print(\"ERROR\")\n",
    "    else:\n",
    "        print(X)"
   ]
  },
  {
   "cell_type": "code",
   "execution_count": 59,
   "id": "4774521b-7359-4583-9265-ddbf23e1fbaa",
   "metadata": {},
   "outputs": [
    {
     "name": "stdout",
     "output_type": "stream",
     "text": [
      "[[ 39  32  23  36  51]\n",
      " [115  76  56 116 131]\n",
      " [122  83  66 117 126]\n",
      " [108  27  30 117  85]\n",
      " [ 49  55  22  79  58]]\n"
     ]
    }
   ],
   "source": [
    "#Ejemplo que funciona\n",
    "A = np.array([(1, 2, 3, 4, 1), (4, 5, 6, 8, 5), (2, 7, 9, 4, 5), (4, 2, 1, 0, 9), (7, 4, 0, 5, 1)])\n",
    "B = np.array([(5, 3, 1, 9, 0), (0, 6, 2, 2, 5), (7, 3, 4, 5, 3), (1, 2, 1, 0, 6), (9, 0, 2, 8, 8)])\n",
    "prodmtr(A, B)"
   ]
  },
  {
   "cell_type": "code",
   "execution_count": 61,
   "id": "2148717d-4d98-4973-9168-9ce6a188aede",
   "metadata": {},
   "outputs": [
    {
     "name": "stdout",
     "output_type": "stream",
     "text": [
      "ERROR\n"
     ]
    }
   ],
   "source": [
    "#Ejemplo que no funciona\n",
    "M = np.array([(1, 2, 3, 4), (4, 5, 6, 8), (2, 9, 4, 5), (4, 2, 1, 9), (4, 0, 5, 1)])\n",
    "N = np.array([(3, 2, 1, 0, 9), (0, 6,7, 2, 5), (9, 1, 4, 8, 3), (7, 2, 1, 8, 6), (9, 0, 2, 8, 8)])\n",
    "prodmtr(M, N)"
   ]
  },
  {
   "cell_type": "markdown",
   "id": "865558e5-807e-47f5-862a-687edd7d936f",
   "metadata": {},
   "source": [
    "### 5. Matriz inversa"
   ]
  },
  {
   "cell_type": "code",
   "execution_count": 6,
   "id": "f9826321-3aa9-4a98-9c3a-f609b89ec703",
   "metadata": {},
   "outputs": [],
   "source": [
    "import numpy as np\n",
    "def detinv(A):\n",
    "    A = np.array(A)\n",
    "    \n",
    "    det =  A[0, 0]*(A[1, 1]*A[2, 2] - A[1, 2]*A[2, 1]) + A[0, 1]*(A[1, 2]*A[2, 0] - A[1, 0]*A[2, 2]) + A[0, 2]*(A[1, 0]*A[2, 1] - A[1, 1]*A[2, 0])\n",
    "    #print(det)\n",
    "\n",
    "    if det == 0:\n",
    "        print(\"ERROR la matriz tiene determinante 0\")\n",
    "        \n",
    "    else:\n",
    "        inv = A*(1/det)\n",
    "        print(inv)"
   ]
  },
  {
   "cell_type": "code",
   "execution_count": 8,
   "id": "b1f37dca-75da-4678-80ad-003d096cc118",
   "metadata": {},
   "outputs": [
    {
     "name": "stdout",
     "output_type": "stream",
     "text": [
      "[[-1.  -1.  -0.5]\n",
      " [-1.5 -2.5 -3.5]\n",
      " [-1.  -2.  -3. ]]\n"
     ]
    }
   ],
   "source": [
    "#Ejemplo que funciona\n",
    "B = np.array([(2, 2, 1), \n",
    "              (3, 5, 7), \n",
    "              (2, 4, 6)])\n",
    "detinv(B)"
   ]
  },
  {
   "cell_type": "code",
   "execution_count": 10,
   "id": "dad05c35-8620-4bb2-8957-b948d728c035",
   "metadata": {},
   "outputs": [
    {
     "name": "stdout",
     "output_type": "stream",
     "text": [
      "ERROR la matriz tiene determinante 0\n"
     ]
    }
   ],
   "source": [
    "#Ejemplo que no funciona\n",
    "X = np.array([(3, 2, 1), \n",
    "              (3, 5, 7), \n",
    "              (2, 4, 6)])\n",
    "detinv(X)"
   ]
  },
  {
   "cell_type": "markdown",
   "id": "054fae59-e4dc-4874-93a3-c411f173ac32",
   "metadata": {},
   "source": [
    "### 6. Sistema de ecuaciones de n incógnitas"
   ]
  },
  {
   "cell_type": "code",
   "execution_count": null,
   "id": "f72c3b80-a88e-45d0-b917-887c7a4a8671",
   "metadata": {},
   "outputs": [],
   "source": []
  }
 ],
 "metadata": {
  "kernelspec": {
   "display_name": "Python 3 (ipykernel)",
   "language": "python",
   "name": "python3"
  },
  "language_info": {
   "codemirror_mode": {
    "name": "ipython",
    "version": 3
   },
   "file_extension": ".py",
   "mimetype": "text/x-python",
   "name": "python",
   "nbconvert_exporter": "python",
   "pygments_lexer": "ipython3",
   "version": "3.12.4"
  }
 },
 "nbformat": 4,
 "nbformat_minor": 5
}
